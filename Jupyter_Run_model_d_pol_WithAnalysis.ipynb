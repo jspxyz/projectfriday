{
 "cells": [
  {
   "cell_type": "code",
   "execution_count": 1,
   "metadata": {},
   "outputs": [],
   "source": [
    "'''\n",
    "Creating to run Model D Conv1d_mfcc40\n",
    "different layer system\n",
    "full mfcc features\n",
    "Created on 2020.12.08 at 1843\n",
    "\n",
    "'''\n",
    "# libraries\n",
    "import numpy as np\n",
    "import pandas as pd\n",
    "import pickle\n",
    "import seaborn as sns\n",
    "import tensorflow as tf\n",
    "\n",
    "from tensorflow.keras.layers import Dense, Dropout, Flatten, Input\n",
    "from tensorflow.keras.layers import Activation, BatchNormalization\n",
    "from tensorflow.keras.layers import Conv1D, Conv2D, LSTM\n",
    "from tensorflow.keras.layers import AveragePooling1D, GlobalAveragePooling2D, MaxPooling1D\n",
    "from tensorflow.keras.models import Model, model_from_json, Sequential\n",
    "\n",
    "# added this to plot\n",
    "import matplotlib.pyplot as plt\n",
    "\n",
    "from sklearn.metrics import confusion_matrix, accuracy_score, classification_report\n",
    "\n"
   ]
  },
  {
   "cell_type": "code",
   "execution_count": 2,
   "metadata": {},
   "outputs": [
    {
     "name": "stdout",
     "output_type": "stream",
     "text": [
      "dataset loaded\n"
     ]
    }
   ],
   "source": [
    "# load datasets\n",
    "\n",
    "# assigning the pickle files\n",
    "with open('./Data_Array_Storage/X_train_mfcc40_axis0_pol.pkl', 'rb') as f:\n",
    "    X_train = pickle.load(f)\n",
    "\n",
    "with open('./Data_Array_Storage/X_test_mfcc40_axis0_pol.pkl', 'rb') as f:\n",
    "    X_test = pickle.load(f)\n",
    "\n",
    "with open('./Data_Array_Storage/y_train_mfcc40_axis0_pol.pkl', 'rb') as f:\n",
    "    y_train = pickle.load(f)\n",
    "\n",
    "with open('./Data_Array_Storage/y_test_mfcc40_axis0_pol.pkl', 'rb') as f:\n",
    "    y_test = pickle.load(f)\n",
    "    \n",
    "print('dataset loaded')"
   ]
  },
  {
   "cell_type": "code",
   "execution_count": 3,
   "metadata": {},
   "outputs": [
    {
     "name": "stdout",
     "output_type": "stream",
     "text": [
      "(216, 40)\n"
     ]
    }
   ],
   "source": [
    "# input shape\n",
    "input_shape = (X_train.shape[1], X_train.shape[2])\n",
    "print(input_shape)"
   ]
  },
  {
   "cell_type": "code",
   "execution_count": 4,
   "metadata": {},
   "outputs": [],
   "source": [
    "def model_d_conv1d(input_shape):\n",
    "    model = Sequential()\n",
    "    model.add(Conv1D(32, 3, padding='same',input_shape=input_shape))  # X_train.shape[1] = No. of Columns (216)\n",
    "    model.add(Activation('relu'))\n",
    "    model.add(Conv1D(32, 3, padding='same'))\n",
    "    model.add(BatchNormalization())\n",
    "    model.add(Activation('relu'))\n",
    "    model.add(Dropout(0.25))\n",
    "    model.add(MaxPooling1D(pool_size=(3)))\n",
    "    model.add(Conv1D(64, 3, padding='same'))\n",
    "    model.add(Activation('relu'))\n",
    "    model.add(Conv1D(64, 3, padding='same'))\n",
    "    model.add(Dropout(0.25))\n",
    "    model.add(MaxPooling1D(pool_size=(3))) # added drop out and maxpooling layer on 20201209 at 1330\n",
    "    model.add(Activation('relu'))\n",
    "    model.add(Conv1D(64, 3, padding='same'))\n",
    "    model.add(Activation('relu'))\n",
    "    model.add(Conv1D(64, 3, padding='same'))\n",
    "    model.add(BatchNormalization())\n",
    "    model.add(Activation('relu'))\n",
    "    model.add(Dropout(0.25))\n",
    "    model.add(MaxPooling1D(pool_size=(3)))\n",
    "    model.add(Conv1D(128, 3, padding='same'))\n",
    "    model.add(Activation('relu'))\n",
    "    model.add(Conv1D(128, 3, padding='same'))\n",
    "    model.add(Activation('relu'))\n",
    "    model.add(Conv1D(256, 3, padding='same'))\n",
    "    model.add(Activation('relu'))\n",
    "    model.add(LSTM(64))\n",
    "#     model.add(Flatten())\n",
    "    model.add(Dense(3)) # Target class number\n",
    "    model.add(Activation('softmax'))\n",
    "    \n",
    "    # model optimizer\n",
    "#     model = model_d_conv1d(input_shape)\n",
    "    optimizer = tf.keras.optimizers.RMSprop(lr=0.000001, decay=1e-6)\n",
    "    \n",
    "    # compile model\n",
    "    model.compile(loss='categorical_crossentropy',\n",
    "              optimizer=optimizer,\n",
    "              metrics=['accuracy'])\n",
    "\n",
    "    return model"
   ]
  },
  {
   "cell_type": "code",
   "execution_count": 4,
   "metadata": {},
   "outputs": [],
   "source": [
    "def model_d_conv1d_flip(input_shape):\n",
    "    model = Sequential()\n",
    "    model.add(Conv1D(256, 3, padding='same',input_shape=input_shape))  # X_train.shape[1] = No. of Columns (216)\n",
    "    model.add(Activation('relu'))\n",
    "    model.add(Conv1D(256, 3, padding='same'))\n",
    "    model.add(BatchNormalization())\n",
    "    model.add(Activation('relu'))\n",
    "    model.add(Dropout(0.25))\n",
    "    model.add(MaxPooling1D(pool_size=(3)))\n",
    "    model.add(Conv1D(128, 3, padding='same'))\n",
    "    model.add(Activation('relu'))\n",
    "    model.add(Conv1D(128, 3, padding='same'))\n",
    "    model.add(Dropout(0.25))\n",
    "    model.add(MaxPooling1D(pool_size=(3))) # added drop out and maxpooling layer on 20201209 at 1330\n",
    "    model.add(Activation('relu'))\n",
    "    model.add(Conv1D(128, 3, padding='same'))\n",
    "    model.add(Activation('relu'))\n",
    "    model.add(Conv1D(128, 3, padding='same'))\n",
    "    model.add(BatchNormalization())\n",
    "    model.add(Activation('relu'))\n",
    "    model.add(Dropout(0.25))\n",
    "    model.add(MaxPooling1D(pool_size=(3)))\n",
    "    model.add(Conv1D(64, 3, padding='same'))\n",
    "    model.add(Activation('relu'))\n",
    "    model.add(Conv1D(64, 3, padding='same'))\n",
    "    model.add(Activation('relu'))\n",
    "    model.add(Conv1D(32, 3, padding='same'))\n",
    "    model.add(Activation('relu'))\n",
    "    model.add(Flatten())\n",
    "    model.add(Dense(3)) # Target class number\n",
    "    model.add(Activation('softmax'))\n",
    "    \n",
    "    # model optimizer\n",
    "#     model = model_d_conv1d(input_shape)\n",
    "    optimizer = tf.keras.optimizers.RMSprop(lr=0.000001, decay=1e-6)\n",
    "    \n",
    "    # compile model\n",
    "    model.compile(loss='categorical_crossentropy',\n",
    "              optimizer=optimizer,\n",
    "              metrics=['accuracy'])\n",
    "\n",
    "    return model"
   ]
  },
  {
   "cell_type": "code",
   "execution_count": 5,
   "metadata": {
    "scrolled": false
   },
   "outputs": [
    {
     "name": "stdout",
     "output_type": "stream",
     "text": [
      "input shape, model, optimizer loaded\n",
      "Model: \"sequential\"\n",
      "_________________________________________________________________\n",
      "Layer (type)                 Output Shape              Param #   \n",
      "=================================================================\n",
      "conv1d (Conv1D)              (None, 216, 32)           3872      \n",
      "_________________________________________________________________\n",
      "activation (Activation)      (None, 216, 32)           0         \n",
      "_________________________________________________________________\n",
      "conv1d_1 (Conv1D)            (None, 216, 32)           3104      \n",
      "_________________________________________________________________\n",
      "batch_normalization (BatchNo (None, 216, 32)           128       \n",
      "_________________________________________________________________\n",
      "activation_1 (Activation)    (None, 216, 32)           0         \n",
      "_________________________________________________________________\n",
      "dropout (Dropout)            (None, 216, 32)           0         \n",
      "_________________________________________________________________\n",
      "max_pooling1d (MaxPooling1D) (None, 72, 32)            0         \n",
      "_________________________________________________________________\n",
      "conv1d_2 (Conv1D)            (None, 72, 64)            6208      \n",
      "_________________________________________________________________\n",
      "activation_2 (Activation)    (None, 72, 64)            0         \n",
      "_________________________________________________________________\n",
      "conv1d_3 (Conv1D)            (None, 72, 64)            12352     \n",
      "_________________________________________________________________\n",
      "dropout_1 (Dropout)          (None, 72, 64)            0         \n",
      "_________________________________________________________________\n",
      "max_pooling1d_1 (MaxPooling1 (None, 24, 64)            0         \n",
      "_________________________________________________________________\n",
      "activation_3 (Activation)    (None, 24, 64)            0         \n",
      "_________________________________________________________________\n",
      "conv1d_4 (Conv1D)            (None, 24, 64)            12352     \n",
      "_________________________________________________________________\n",
      "activation_4 (Activation)    (None, 24, 64)            0         \n",
      "_________________________________________________________________\n",
      "conv1d_5 (Conv1D)            (None, 24, 64)            12352     \n",
      "_________________________________________________________________\n",
      "batch_normalization_1 (Batch (None, 24, 64)            256       \n",
      "_________________________________________________________________\n",
      "activation_5 (Activation)    (None, 24, 64)            0         \n",
      "_________________________________________________________________\n",
      "dropout_2 (Dropout)          (None, 24, 64)            0         \n",
      "_________________________________________________________________\n",
      "max_pooling1d_2 (MaxPooling1 (None, 8, 64)             0         \n",
      "_________________________________________________________________\n",
      "conv1d_6 (Conv1D)            (None, 8, 128)            24704     \n",
      "_________________________________________________________________\n",
      "activation_6 (Activation)    (None, 8, 128)            0         \n",
      "_________________________________________________________________\n",
      "conv1d_7 (Conv1D)            (None, 8, 128)            49280     \n",
      "_________________________________________________________________\n",
      "activation_7 (Activation)    (None, 8, 128)            0         \n",
      "_________________________________________________________________\n",
      "conv1d_8 (Conv1D)            (None, 8, 256)            98560     \n",
      "_________________________________________________________________\n",
      "activation_8 (Activation)    (None, 8, 256)            0         \n",
      "_________________________________________________________________\n",
      "lstm (LSTM)                  (None, 64)                82176     \n",
      "_________________________________________________________________\n",
      "dense (Dense)                (None, 3)                 195       \n",
      "_________________________________________________________________\n",
      "activation_9 (Activation)    (None, 3)                 0         \n",
      "=================================================================\n",
      "Total params: 305,539\n",
      "Trainable params: 305,347\n",
      "Non-trainable params: 192\n",
      "_________________________________________________________________\n"
     ]
    }
   ],
   "source": [
    "# load model and input shape\n",
    "# from models import model_d_conv1d\n",
    "\n",
    "# model = model_d_conv1d_flip(input_shape)\n",
    "model = model_d_conv1d(input_shape)\n",
    "# optimizer = tf.keras.optimizers.RMSprop(lr=0.000001, decay=1e-6)\n",
    "\n",
    "print('input shape, model, optimizer loaded')\n",
    "\n",
    "model.summary()"
   ]
  },
  {
   "cell_type": "code",
   "execution_count": 6,
   "metadata": {},
   "outputs": [
    {
     "name": "stdout",
     "output_type": "stream",
     "text": [
      "callbacks and checkpoints set\n"
     ]
    }
   ],
   "source": [
    "# callback list: ModelCheckpoint, reduceLROnPlat, EarlyStopping\n",
    "# checkpoint_path = \"./models_saved/model_d_conv1d_v3.h5\"\n",
    "\n",
    "checkpoint_path = \"./models_saved/model_d_conv1d_LSTM_pol.h5\"\n",
    "\n",
    "# Create a callback that saves the model's weights\n",
    "callbacks = [tf.keras.callbacks.ModelCheckpoint(filepath=checkpoint_path,\n",
    "                                                 save_weights_only=False,\n",
    "                                                 save_best_only=True,\n",
    "                                                 verbose=1), # 1 tells your which epoch is saving\n",
    "#                                                  monitor='val_categorical_accuracy',  # added for emo1d\n",
    "#                                                  mode='max'), # added for emo1d\n",
    "               tf.keras.callbacks.EarlyStopping(monitor='val_accuracy', # changed from 'val_accuracy', 'val_loss'\n",
    "                                                patience=5, \n",
    "                                                restore_best_weights=True),\n",
    "#                                                 verbose = 1, # added verbose for emo1d\n",
    "#                                                 mode = 'min'), # added for emo1d\n",
    "               tf.keras.callbacks.ReduceLROnPlateau(monitor='val_loss', \n",
    "                                                    patience=2, \n",
    "                                                    factor=0.5, \n",
    "                                                    min_lr=0.000001, \n",
    "                                                    verbose=1)]\n",
    "\n",
    "print('callbacks and checkpoints set')"
   ]
  },
  {
   "cell_type": "code",
   "execution_count": 39,
   "metadata": {},
   "outputs": [
    {
     "name": "stdout",
     "output_type": "stream",
     "text": [
      "model compiled\n"
     ]
    }
   ],
   "source": [
    "# model.compile(loss='categorical_crossentropy',\n",
    "#               optimizer=optimizer,\n",
    "#               metrics=['accuracy'])\n",
    "\n",
    "# print('model compiled')"
   ]
  },
  {
   "cell_type": "code",
   "execution_count": 7,
   "metadata": {
    "scrolled": false
   },
   "outputs": [
    {
     "name": "stdout",
     "output_type": "stream",
     "text": [
      "Epoch 1/150\n",
      "\n",
      "Epoch 00001: val_loss improved from inf to 1.00363, saving model to ./models_saved/model_d_conv1d_LSTM_pol.h5\n",
      "609/609 - 21s - loss: 1.0916 - accuracy: 0.3970 - val_loss: 1.0036 - val_accuracy: 0.6310\n",
      "Epoch 2/150\n",
      "\n",
      "Epoch 00002: val_loss improved from 1.00363 to 0.94200, saving model to ./models_saved/model_d_conv1d_LSTM_pol.h5\n",
      "609/609 - 19s - loss: 0.9332 - accuracy: 0.6328 - val_loss: 0.9420 - val_accuracy: 0.6310\n",
      "Epoch 3/150\n",
      "\n",
      "Epoch 00003: val_loss improved from 0.94200 to 0.92863, saving model to ./models_saved/model_d_conv1d_LSTM_pol.h5\n",
      "609/609 - 19s - loss: 0.9073 - accuracy: 0.6328 - val_loss: 0.9286 - val_accuracy: 0.6310\n",
      "Epoch 4/150\n",
      "\n",
      "Epoch 00004: val_loss improved from 0.92863 to 0.92438, saving model to ./models_saved/model_d_conv1d_LSTM_pol.h5\n",
      "609/609 - 18s - loss: 0.9022 - accuracy: 0.6328 - val_loss: 0.9244 - val_accuracy: 0.6310\n",
      "Epoch 5/150\n",
      "\n",
      "Epoch 00005: val_loss improved from 0.92438 to 0.92248, saving model to ./models_saved/model_d_conv1d_LSTM_pol.h5\n",
      "609/609 - 18s - loss: 0.8974 - accuracy: 0.6328 - val_loss: 0.9225 - val_accuracy: 0.6310\n",
      "Epoch 6/150\n",
      "\n",
      "Epoch 00006: val_loss improved from 0.92248 to 0.91891, saving model to ./models_saved/model_d_conv1d_LSTM_pol.h5\n",
      "609/609 - 18s - loss: 0.8945 - accuracy: 0.6328 - val_loss: 0.9189 - val_accuracy: 0.6310\n"
     ]
    }
   ],
   "source": [
    "batch_size = 32\n",
    "\n",
    "model_history=model.fit(X_train, \n",
    "                        y_train,\n",
    "                        batch_size=batch_size,\n",
    "                        epochs=150,\n",
    "                        validation_data=(X_test, y_test),\n",
    "                        verbose=2,\n",
    "                        callbacks=callbacks)"
   ]
  },
  {
   "cell_type": "code",
   "execution_count": 8,
   "metadata": {},
   "outputs": [
    {
     "data": {
      "image/png": "[encoded data removed]",
      "text/plain": [
       "<Figure size 432x288 with 1 Axes>"
      ]
     },
     "metadata": {
      "needs_background": "light"
     },
     "output_type": "display_data"
    }
   ],
   "source": [
    "plt.plot(model_history.history['loss'])\n",
    "plt.plot(model_history.history['val_loss'])\n",
    "plt.title('model loss')\n",
    "plt.ylabel('loss')\n",
    "plt.xlabel('epoch')\n",
    "plt.legend(['train', 'test'], loc='upper left')\n",
    "plt.show()"
   ]
  },
  {
   "cell_type": "code",
   "execution_count": 9,
   "metadata": {},
   "outputs": [
    {
     "name": "stdout",
     "output_type": "stream",
     "text": [
      "153/153 - 1s - loss: 1.0036 - accuracy: 0.6310\n",
      "score: 1.00\n",
      "acc: 0.63\n"
     ]
    }
   ],
   "source": [
    "score,acc = model.evaluate(X_test, y_test, verbose = 2, batch_size = batch_size)\n",
    "print(\"score: %.2f\" % (score))\n",
    "print(\"acc: %.2f\" % (acc))"
   ]
  },
  {
   "cell_type": "code",
   "execution_count": 10,
   "metadata": {},
   "outputs": [],
   "source": [
    "# load labels\n",
    "with open('./Data_Array_Storage/labels_pol.pkl', 'rb') as f:\n",
    "    lb = pickle.load(f)"
   ]
  },
  {
   "cell_type": "code",
   "execution_count": 11,
   "metadata": {},
   "outputs": [
    {
     "name": "stdout",
     "output_type": "stream",
     "text": [
      "77/77 [==============================] - 1s 10ms/step\n"
     ]
    },
    {
     "data": {
      "text/plain": [
       "array([0, 0, 0, ..., 0, 0, 0])"
      ]
     },
     "execution_count": 11,
     "metadata": {},
     "output_type": "execute_result"
    }
   ],
   "source": [
    "# error analysis\n",
    "\n",
    "preds = model.predict(X_test, \n",
    "                         batch_size=64, \n",
    "                         verbose=1)\n",
    "\n",
    "preds=preds.argmax(axis=1)\n",
    "preds"
   ]
  },
  {
   "cell_type": "code",
   "execution_count": 12,
   "metadata": {},
   "outputs": [
    {
     "data": {
      "text/html": [
       "<div>\n",
       "<style scoped>\n",
       "    .dataframe tbody tr th:only-of-type {\n",
       "        vertical-align: middle;\n",
       "    }\n",
       "\n",
       "    .dataframe tbody tr th {\n",
       "        vertical-align: top;\n",
       "    }\n",
       "\n",
       "    .dataframe thead th {\n",
       "        text-align: right;\n",
       "    }\n",
       "</style>\n",
       "<table border=\"1\" class=\"dataframe\">\n",
       "  <thead>\n",
       "    <tr style=\"text-align: right;\">\n",
       "      <th></th>\n",
       "      <th>actualvalues</th>\n",
       "      <th>predictedvalues</th>\n",
       "    </tr>\n",
       "  </thead>\n",
       "  <tbody>\n",
       "    <tr>\n",
       "      <th>150</th>\n",
       "      <td>negative</td>\n",
       "      <td>negative</td>\n",
       "    </tr>\n",
       "    <tr>\n",
       "      <th>151</th>\n",
       "      <td>negative</td>\n",
       "      <td>negative</td>\n",
       "    </tr>\n",
       "    <tr>\n",
       "      <th>152</th>\n",
       "      <td>negative</td>\n",
       "      <td>negative</td>\n",
       "    </tr>\n",
       "    <tr>\n",
       "      <th>153</th>\n",
       "      <td>negative</td>\n",
       "      <td>negative</td>\n",
       "    </tr>\n",
       "    <tr>\n",
       "      <th>154</th>\n",
       "      <td>neutral</td>\n",
       "      <td>negative</td>\n",
       "    </tr>\n",
       "    <tr>\n",
       "      <th>155</th>\n",
       "      <td>negative</td>\n",
       "      <td>negative</td>\n",
       "    </tr>\n",
       "    <tr>\n",
       "      <th>156</th>\n",
       "      <td>negative</td>\n",
       "      <td>negative</td>\n",
       "    </tr>\n",
       "    <tr>\n",
       "      <th>157</th>\n",
       "      <td>negative</td>\n",
       "      <td>negative</td>\n",
       "    </tr>\n",
       "    <tr>\n",
       "      <th>158</th>\n",
       "      <td>negative</td>\n",
       "      <td>negative</td>\n",
       "    </tr>\n",
       "    <tr>\n",
       "      <th>159</th>\n",
       "      <td>negative</td>\n",
       "      <td>negative</td>\n",
       "    </tr>\n",
       "    <tr>\n",
       "      <th>160</th>\n",
       "      <td>negative</td>\n",
       "      <td>negative</td>\n",
       "    </tr>\n",
       "    <tr>\n",
       "      <th>161</th>\n",
       "      <td>negative</td>\n",
       "      <td>negative</td>\n",
       "    </tr>\n",
       "    <tr>\n",
       "      <th>162</th>\n",
       "      <td>negative</td>\n",
       "      <td>negative</td>\n",
       "    </tr>\n",
       "    <tr>\n",
       "      <th>163</th>\n",
       "      <td>negative</td>\n",
       "      <td>negative</td>\n",
       "    </tr>\n",
       "    <tr>\n",
       "      <th>164</th>\n",
       "      <td>negative</td>\n",
       "      <td>negative</td>\n",
       "    </tr>\n",
       "    <tr>\n",
       "      <th>165</th>\n",
       "      <td>negative</td>\n",
       "      <td>negative</td>\n",
       "    </tr>\n",
       "    <tr>\n",
       "      <th>166</th>\n",
       "      <td>negative</td>\n",
       "      <td>negative</td>\n",
       "    </tr>\n",
       "    <tr>\n",
       "      <th>167</th>\n",
       "      <td>neutral</td>\n",
       "      <td>negative</td>\n",
       "    </tr>\n",
       "    <tr>\n",
       "      <th>168</th>\n",
       "      <td>neutral</td>\n",
       "      <td>negative</td>\n",
       "    </tr>\n",
       "    <tr>\n",
       "      <th>169</th>\n",
       "      <td>negative</td>\n",
       "      <td>negative</td>\n",
       "    </tr>\n",
       "    <tr>\n",
       "      <th>170</th>\n",
       "      <td>neutral</td>\n",
       "      <td>negative</td>\n",
       "    </tr>\n",
       "    <tr>\n",
       "      <th>171</th>\n",
       "      <td>neutral</td>\n",
       "      <td>negative</td>\n",
       "    </tr>\n",
       "    <tr>\n",
       "      <th>172</th>\n",
       "      <td>neutral</td>\n",
       "      <td>negative</td>\n",
       "    </tr>\n",
       "    <tr>\n",
       "      <th>173</th>\n",
       "      <td>negative</td>\n",
       "      <td>negative</td>\n",
       "    </tr>\n",
       "    <tr>\n",
       "      <th>174</th>\n",
       "      <td>negative</td>\n",
       "      <td>negative</td>\n",
       "    </tr>\n",
       "    <tr>\n",
       "      <th>175</th>\n",
       "      <td>negative</td>\n",
       "      <td>negative</td>\n",
       "    </tr>\n",
       "    <tr>\n",
       "      <th>176</th>\n",
       "      <td>neutral</td>\n",
       "      <td>negative</td>\n",
       "    </tr>\n",
       "    <tr>\n",
       "      <th>177</th>\n",
       "      <td>neutral</td>\n",
       "      <td>negative</td>\n",
       "    </tr>\n",
       "    <tr>\n",
       "      <th>178</th>\n",
       "      <td>negative</td>\n",
       "      <td>negative</td>\n",
       "    </tr>\n",
       "    <tr>\n",
       "      <th>179</th>\n",
       "      <td>neutral</td>\n",
       "      <td>negative</td>\n",
       "    </tr>\n",
       "  </tbody>\n",
       "</table>\n",
       "</div>"
      ],
      "text/plain": [
       "    actualvalues predictedvalues\n",
       "150     negative        negative\n",
       "151     negative        negative\n",
       "152     negative        negative\n",
       "153     negative        negative\n",
       "154      neutral        negative\n",
       "155     negative        negative\n",
       "156     negative        negative\n",
       "157     negative        negative\n",
       "158     negative        negative\n",
       "159     negative        negative\n",
       "160     negative        negative\n",
       "161     negative        negative\n",
       "162     negative        negative\n",
       "163     negative        negative\n",
       "164     negative        negative\n",
       "165     negative        negative\n",
       "166     negative        negative\n",
       "167      neutral        negative\n",
       "168      neutral        negative\n",
       "169     negative        negative\n",
       "170      neutral        negative\n",
       "171      neutral        negative\n",
       "172      neutral        negative\n",
       "173     negative        negative\n",
       "174     negative        negative\n",
       "175     negative        negative\n",
       "176      neutral        negative\n",
       "177      neutral        negative\n",
       "178     negative        negative\n",
       "179      neutral        negative"
      ]
     },
     "execution_count": 12,
     "metadata": {},
     "output_type": "execute_result"
    }
   ],
   "source": [
    "# predictions \n",
    "preds = preds.astype(int).flatten()\n",
    "preds = (lb.inverse_transform((preds)))\n",
    "preds = pd.DataFrame({'predictedvalues': preds})\n",
    "\n",
    "# Actual labels\n",
    "actual = y_test.argmax(axis=1)\n",
    "actual = actual.astype(int).flatten()\n",
    "actual = (lb.inverse_transform((actual)))\n",
    "actual = pd.DataFrame({'actualvalues': actual})\n",
    "\n",
    "# Lets combined both of them into a single dataframe\n",
    "finaldf = actual.join(preds)\n",
    "finaldf[150:180]"
   ]
  },
  {
   "cell_type": "code",
   "execution_count": 13,
   "metadata": {},
   "outputs": [],
   "source": [
    "# the confusion matrix heat map plot\n",
    "def print_confusion_matrix(confusion_matrix, class_names, figsize = (10,7), fontsize=14):\n",
    "    \"\"\"Prints a confusion matrix, as returned by sklearn.metrics.confusion_matrix, as a heatmap.\n",
    "    \n",
    "    Arguments\n",
    "    ---------\n",
    "    confusion_matrix: numpy.ndarray\n",
    "        The numpy.ndarray object returned from a call to sklearn.metrics.confusion_matrix. \n",
    "        Similarly constructed ndarrays can also be used.\n",
    "    class_names: list\n",
    "        An ordered list of class names, in the order they index the given confusion matrix.\n",
    "    figsize: tuple\n",
    "        A 2-long tuple, the first value determining the horizontal size of the ouputted figure,\n",
    "        the second determining the vertical size. Defaults to (10,7).\n",
    "    fontsize: int\n",
    "        Font size for axes labels. Defaults to 14.\n",
    "        \n",
    "    Returns\n",
    "    -------\n",
    "    matplotlib.figure.Figure\n",
    "        The resulting confusion matrix figure\n",
    "    \"\"\"\n",
    "    df_cm = pd.DataFrame(\n",
    "        confusion_matrix, index=class_names, columns=class_names, \n",
    "    )\n",
    "    fig = plt.figure(figsize=figsize)\n",
    "    try:\n",
    "        heatmap = sns.heatmap(df_cm, annot=True, fmt=\"d\")\n",
    "    except ValueError:\n",
    "        raise ValueError(\"Confusion matrix values must be integers.\")\n",
    "        \n",
    "    heatmap.yaxis.set_ticklabels(heatmap.yaxis.get_ticklabels(), rotation=0, ha='right', fontsize=fontsize)\n",
    "    heatmap.xaxis.set_ticklabels(heatmap.xaxis.get_ticklabels(), rotation=45, ha='right', fontsize=fontsize)\n",
    "    plt.ylabel('True label')\n",
    "    plt.xlabel('Predicted label')"
   ]
  },
  {
   "cell_type": "code",
   "execution_count": 14,
   "metadata": {},
   "outputs": [
    {
     "name": "stdout",
     "output_type": "stream",
     "text": [
      "0.6310380267214799\n"
     ]
    },
    {
     "data": {
      "image/png": "[encoded data removed]",
      "text/plain": [
       "<Figure size 720x504 with 2 Axes>"
      ]
     },
     "metadata": {
      "needs_background": "light"
     },
     "output_type": "display_data"
    }
   ],
   "source": [
    "# Get the predictions file \n",
    "# finaldf = pd.read_csv(\"Predictions.csv\")\n",
    "classes = finaldf.actualvalues.unique()\n",
    "classes.sort()    \n",
    "\n",
    "# Confusion matrix \n",
    "c = confusion_matrix(finaldf.actualvalues, finaldf.predictedvalues)\n",
    "print(accuracy_score(finaldf.actualvalues, finaldf.predictedvalues))\n",
    "print_confusion_matrix(c, class_names = classes)"
   ]
  },
  {
   "cell_type": "code",
   "execution_count": 15,
   "metadata": {},
   "outputs": [
    {
     "name": "stdout",
     "output_type": "stream",
     "text": [
      "              precision    recall  f1-score   support\n",
      "\n",
      "    negative       0.63      1.00      0.77      3070\n",
      "     neutral       0.00      0.00      0.00      1010\n",
      "    positive       0.00      0.00      0.00       785\n",
      "\n",
      "    accuracy                           0.63      4865\n",
      "   macro avg       0.21      0.33      0.26      4865\n",
      "weighted avg       0.40      0.63      0.49      4865\n",
      "\n"
     ]
    },
    {
     "name": "stderr",
     "output_type": "stream",
     "text": [
      "/Library/Frameworks/Python.framework/Versions/3.8/lib/python3.8/site-packages/sklearn/metrics/_classification.py:1221: UndefinedMetricWarning: Precision and F-score are ill-defined and being set to 0.0 in labels with no predicted samples. Use `zero_division` parameter to control this behavior.\n",
      "  _warn_prf(average, modifier, msg_start, len(result))\n"
     ]
    }
   ],
   "source": [
    "# Classification report \n",
    "classes = finaldf.actualvalues.unique()\n",
    "classes.sort()    \n",
    "print(classification_report(finaldf.actualvalues, finaldf.predictedvalues, target_names=classes))"
   ]
  }
 ],
 "metadata": {
  "kernelspec": {
   "display_name": "Python 3",
   "language": "python",
   "name": "python3"
  },
  "language_info": {
   "codemirror_mode": {
    "name": "ipython",
    "version": 3
   },
   "file_extension": ".py",
   "mimetype": "text/x-python",
   "name": "python",
   "nbconvert_exporter": "python",
   "pygments_lexer": "ipython3",
   "version": "3.8.5"
  }
 },
 "nbformat": 4,
 "nbformat_minor": 4
}
