{
 "cells": [
  {
   "cell_type": "code",
   "execution_count": 43,
   "metadata": {},
   "outputs": [],
   "source": [
    "'''\n",
    "Creating to run Model D Conv1d_mfcc40\n",
    "different layer system\n",
    "full mfcc features\n",
    "Created on 2020.12.08 at 1843\n",
    "\n",
    "'''\n",
    "# libraries\n",
    "import numpy as np\n",
    "import pickle\n",
    "import tensorflow as tf\n",
    "\n",
    "import tensorflow as tf\n",
    "from tensorflow.keras.layers import Dense, Dropout, Flatten, Input\n",
    "from tensorflow.keras.layers import Activation, BatchNormalization\n",
    "from tensorflow.keras.layers import Conv1D, Conv2D, LSTM\n",
    "from tensorflow.keras.layers import AveragePooling1D, GlobalAveragePooling2D, MaxPooling1D\n",
    "from tensorflow.keras.models import Model, model_from_json, Sequential\n",
    "\n",
    "# added this to plot\n",
    "import matplotlib.pyplot as plt"
   ]
  },
  {
   "cell_type": "code",
   "execution_count": 44,
   "metadata": {},
   "outputs": [
    {
     "name": "stdout",
     "output_type": "stream",
     "text": [
      "dataset loaded\n"
     ]
    }
   ],
   "source": [
    "# load datasets\n",
    "\n",
    "# assigning the pickle files\n",
    "with open('./Data_Array_Storage/X_train_mfcc40_axis0.pkl', 'rb') as f:\n",
    "    X_train = pickle.load(f)\n",
    "\n",
    "with open('./Data_Array_Storage/X_test_mfcc40_axis0.pkl', 'rb') as f:\n",
    "    X_test = pickle.load(f)\n",
    "\n",
    "with open('./Data_Array_Storage/y_train_mfcc40_axis0.pkl', 'rb') as f:\n",
    "    y_train = pickle.load(f)\n",
    "\n",
    "with open('./Data_Array_Storage/y_test_mfcc40_axis0.pkl', 'rb') as f:\n",
    "    y_test = pickle.load(f)\n",
    "    \n",
    "print('dataset loaded')"
   ]
  },
  {
   "cell_type": "code",
   "execution_count": 45,
   "metadata": {},
   "outputs": [
    {
     "name": "stdout",
     "output_type": "stream",
     "text": [
      "(216, 40)\n"
     ]
    }
   ],
   "source": [
    "# input shape\n",
    "input_shape = (X_train.shape[1], X_train.shape[2])\n",
    "print(input_shape)"
   ]
  },
  {
   "cell_type": "code",
   "execution_count": 50,
   "metadata": {},
   "outputs": [
    {
     "name": "stdout",
     "output_type": "stream",
     "text": [
      "Model: \"sequential_3\"\n",
      "_________________________________________________________________\n",
      "Layer (type)                 Output Shape              Param #   \n",
      "=================================================================\n",
      "conv1d_21 (Conv1D)           (None, 216, 32)           3872      \n",
      "_________________________________________________________________\n",
      "activation_26 (Activation)   (None, 216, 32)           0         \n",
      "_________________________________________________________________\n",
      "conv1d_22 (Conv1D)           (None, 216, 32)           3104      \n",
      "_________________________________________________________________\n",
      "batch_normalization_6 (Batch (None, 216, 32)           128       \n",
      "_________________________________________________________________\n",
      "activation_27 (Activation)   (None, 216, 32)           0         \n",
      "_________________________________________________________________\n",
      "dropout_7 (Dropout)          (None, 216, 32)           0         \n",
      "_________________________________________________________________\n",
      "max_pooling1d_7 (MaxPooling1 (None, 72, 32)            0         \n",
      "_________________________________________________________________\n",
      "conv1d_23 (Conv1D)           (None, 72, 64)            6208      \n",
      "_________________________________________________________________\n",
      "activation_28 (Activation)   (None, 72, 64)            0         \n",
      "_________________________________________________________________\n",
      "conv1d_24 (Conv1D)           (None, 72, 64)            12352     \n",
      "_________________________________________________________________\n",
      "dropout_8 (Dropout)          (None, 72, 64)            0         \n",
      "_________________________________________________________________\n",
      "max_pooling1d_8 (MaxPooling1 (None, 24, 64)            0         \n",
      "_________________________________________________________________\n",
      "activation_29 (Activation)   (None, 24, 64)            0         \n",
      "_________________________________________________________________\n",
      "conv1d_25 (Conv1D)           (None, 24, 64)            12352     \n",
      "_________________________________________________________________\n",
      "activation_30 (Activation)   (None, 24, 64)            0         \n",
      "_________________________________________________________________\n",
      "conv1d_26 (Conv1D)           (None, 24, 64)            12352     \n",
      "_________________________________________________________________\n",
      "batch_normalization_7 (Batch (None, 24, 64)            256       \n",
      "_________________________________________________________________\n",
      "activation_31 (Activation)   (None, 24, 64)            0         \n",
      "_________________________________________________________________\n",
      "dropout_9 (Dropout)          (None, 24, 64)            0         \n",
      "_________________________________________________________________\n",
      "max_pooling1d_9 (MaxPooling1 (None, 8, 64)             0         \n",
      "_________________________________________________________________\n",
      "conv1d_27 (Conv1D)           (None, 8, 128)            24704     \n",
      "_________________________________________________________________\n",
      "activation_32 (Activation)   (None, 8, 128)            0         \n",
      "_________________________________________________________________\n",
      "conv1d_28 (Conv1D)           (None, 8, 128)            49280     \n",
      "_________________________________________________________________\n",
      "activation_33 (Activation)   (None, 8, 128)            0         \n",
      "_________________________________________________________________\n",
      "conv1d_29 (Conv1D)           (None, 8, 256)            98560     \n",
      "_________________________________________________________________\n",
      "activation_34 (Activation)   (None, 8, 256)            0         \n",
      "_________________________________________________________________\n",
      "flatten_3 (Flatten)          (None, 2048)              0         \n",
      "_________________________________________________________________\n",
      "dense_3 (Dense)              (None, 3)                 6147      \n",
      "_________________________________________________________________\n",
      "activation_35 (Activation)   (None, 3)                 0         \n",
      "=================================================================\n",
      "Total params: 229,315\n",
      "Trainable params: 229,123\n",
      "Non-trainable params: 192\n",
      "_________________________________________________________________\n"
     ]
    }
   ],
   "source": [
    "def emo1d(input_shape, num_classes,args):\n",
    "    \n",
    "    learning_rate = 0.0001\n",
    "    decay = 1e-6\n",
    "    momentum = 0.9\n",
    "    num_class=3\n",
    "    num_fc = 64\n",
    "    \n",
    "    model = Sequential(name='Emo1D')\n",
    "    \n",
    "    # LFLB1\n",
    "    model.add(Conv1D(filters = 64,kernel_size = (3),strides=1,padding='same',data_format='channels_last',input_shape=input_shape))\t\n",
    "    model.add(BatchNormalization())\n",
    "    model.add(Activation('elu'))\n",
    "    model.add(MaxPooling1D(pool_size = 4, strides = 4))\n",
    "\n",
    "    #LFLB2\n",
    "    model.add(Conv1D(filters=64, kernel_size = 3, strides=1,padding='same'))\n",
    "    model.add(BatchNormalization())\n",
    "    model.add(Activation('elu'))\n",
    "    model.add(MaxPooling1D(pool_size = 4, strides = 4))\n",
    "\n",
    "    #LFLB3\n",
    "    model.add(Conv1D(filters=128, kernel_size = 3, strides=1,padding='same'))\n",
    "    model.add(BatchNormalization())\n",
    "    model.add(Activation('elu'))\n",
    "    model.add(MaxPooling1D(pool_size = 4, strides = 4))\n",
    "\n",
    "    #LFLB4\n",
    "    model.add(Conv1D(filters=128, kernel_size = 3, strides=1,padding='same'))\n",
    "    model.add(BatchNormalization())\n",
    "    model.add(Activation('elu'))\n",
    "    model.add(MaxPooling1D(pool_size = 4, strides = 4))\n",
    "\n",
    "    #LSTM\n",
    "    model.add(LSTM(units=num_fc)) \n",
    "\n",
    "    #FC\n",
    "    model.add(Dense(units=num_classes,activation='softmax'))\n",
    "\n",
    "    #Model compilation\t\n",
    "    opt = optimizers.SGD(lr = learning_rate, decay=decay, momentum=momentum, nesterov=True)\n",
    "    model.compile(optimizer=opt,loss='categorical_crossentropy',metrics=['categorical_accuracy'])\n",
    "\n",
    "    return model\n",
    "\n",
    "model.summary()"
   ]
  },
  {
   "cell_type": "code",
   "execution_count": 36,
   "metadata": {},
   "outputs": [],
   "source": [
    "def model_d_conv1d(input_shape):\n",
    "    model = Sequential()\n",
    "    model.add(Conv1D(32, 3, padding='same',input_shape=input_shape))  # X_train.shape[1] = No. of Columns (216)\n",
    "    model.add(Activation('relu'))\n",
    "    model.add(Conv1D(32, 3, padding='same'))\n",
    "    model.add(BatchNormalization())\n",
    "    model.add(Activation('relu'))\n",
    "    model.add(Dropout(0.25))\n",
    "    model.add(MaxPooling1D(pool_size=(3)))\n",
    "    model.add(Conv1D(64, 3, padding='same'))\n",
    "    model.add(Activation('relu'))\n",
    "    model.add(Conv1D(64, 3, padding='same'))\n",
    "    model.add(Dropout(0.25))\n",
    "    model.add(MaxPooling1D(pool_size=(3))) # added drop out and maxpooling layer on 20201209 at 1330\n",
    "    model.add(Activation('relu'))\n",
    "    model.add(Conv1D(64, 3, padding='same'))\n",
    "    model.add(Activation('relu'))\n",
    "    model.add(Conv1D(64, 3, padding='same'))\n",
    "    model.add(BatchNormalization())\n",
    "    model.add(Activation('relu'))\n",
    "    model.add(Dropout(0.25))\n",
    "    model.add(MaxPooling1D(pool_size=(3)))\n",
    "    model.add(Conv1D(128, 3, padding='same'))\n",
    "    model.add(Activation('relu'))\n",
    "    model.add(Conv1D(128, 3, padding='same'))\n",
    "    model.add(Activation('relu'))\n",
    "    model.add(Conv1D(256, 3, padding='same'))\n",
    "    model.add(Activation('relu'))\n",
    "    model.add(Flatten())\n",
    "    model.add(Dense(3)) # Target class number\n",
    "    model.add(Activation('softmax'))\n",
    "    \n",
    "    # model optimizer\n",
    "#     model = model_d_conv1d(input_shape)\n",
    "    optimizer = tf.keras.optimizers.RMSprop(lr=0.000001, decay=1e-6)\n",
    "    \n",
    "    # compile model\n",
    "    model.compile(loss='categorical_crossentropy',\n",
    "              optimizer=optimizer,\n",
    "              metrics=['accuracy'])\n",
    "\n",
    "    return model\n",
    "\n",
    "model.summary()"
   ]
  },
  {
   "cell_type": "code",
   "execution_count": 37,
   "metadata": {
    "scrolled": true
   },
   "outputs": [
    {
     "name": "stdout",
     "output_type": "stream",
     "text": [
      "input shape, model, optimizer loaded\n",
      "Model: \"sequential_3\"\n",
      "_________________________________________________________________\n",
      "Layer (type)                 Output Shape              Param #   \n",
      "=================================================================\n",
      "conv1d_21 (Conv1D)           (None, 216, 32)           3872      \n",
      "_________________________________________________________________\n",
      "activation_26 (Activation)   (None, 216, 32)           0         \n",
      "_________________________________________________________________\n",
      "conv1d_22 (Conv1D)           (None, 216, 32)           3104      \n",
      "_________________________________________________________________\n",
      "batch_normalization_6 (Batch (None, 216, 32)           128       \n",
      "_________________________________________________________________\n",
      "activation_27 (Activation)   (None, 216, 32)           0         \n",
      "_________________________________________________________________\n",
      "dropout_7 (Dropout)          (None, 216, 32)           0         \n",
      "_________________________________________________________________\n",
      "max_pooling1d_7 (MaxPooling1 (None, 72, 32)            0         \n",
      "_________________________________________________________________\n",
      "conv1d_23 (Conv1D)           (None, 72, 64)            6208      \n",
      "_________________________________________________________________\n",
      "activation_28 (Activation)   (None, 72, 64)            0         \n",
      "_________________________________________________________________\n",
      "conv1d_24 (Conv1D)           (None, 72, 64)            12352     \n",
      "_________________________________________________________________\n",
      "dropout_8 (Dropout)          (None, 72, 64)            0         \n",
      "_________________________________________________________________\n",
      "max_pooling1d_8 (MaxPooling1 (None, 24, 64)            0         \n",
      "_________________________________________________________________\n",
      "activation_29 (Activation)   (None, 24, 64)            0         \n",
      "_________________________________________________________________\n",
      "conv1d_25 (Conv1D)           (None, 24, 64)            12352     \n",
      "_________________________________________________________________\n",
      "activation_30 (Activation)   (None, 24, 64)            0         \n",
      "_________________________________________________________________\n",
      "conv1d_26 (Conv1D)           (None, 24, 64)            12352     \n",
      "_________________________________________________________________\n",
      "batch_normalization_7 (Batch (None, 24, 64)            256       \n",
      "_________________________________________________________________\n",
      "activation_31 (Activation)   (None, 24, 64)            0         \n",
      "_________________________________________________________________\n",
      "dropout_9 (Dropout)          (None, 24, 64)            0         \n",
      "_________________________________________________________________\n",
      "max_pooling1d_9 (MaxPooling1 (None, 8, 64)             0         \n",
      "_________________________________________________________________\n",
      "conv1d_27 (Conv1D)           (None, 8, 128)            24704     \n",
      "_________________________________________________________________\n",
      "activation_32 (Activation)   (None, 8, 128)            0         \n",
      "_________________________________________________________________\n",
      "conv1d_28 (Conv1D)           (None, 8, 128)            49280     \n",
      "_________________________________________________________________\n",
      "activation_33 (Activation)   (None, 8, 128)            0         \n",
      "_________________________________________________________________\n",
      "conv1d_29 (Conv1D)           (None, 8, 256)            98560     \n",
      "_________________________________________________________________\n",
      "activation_34 (Activation)   (None, 8, 256)            0         \n",
      "_________________________________________________________________\n",
      "flatten_3 (Flatten)          (None, 2048)              0         \n",
      "_________________________________________________________________\n",
      "dense_3 (Dense)              (None, 3)                 6147      \n",
      "_________________________________________________________________\n",
      "activation_35 (Activation)   (None, 3)                 0         \n",
      "=================================================================\n",
      "Total params: 229,315\n",
      "Trainable params: 229,123\n",
      "Non-trainable params: 192\n",
      "_________________________________________________________________\n"
     ]
    }
   ],
   "source": [
    "# load model and input shape\n",
    "# from models import model_d_conv1d\n",
    "\n",
    "# model = model_d_conv1d(input_shape)\n",
    "# optimizer = tf.keras.optimizers.RMSprop(lr=0.000001, decay=1e-6)\n",
    "\n",
    "# print('input shape, model, optimizer loaded')\n",
    "\n",
    "# model.summary()"
   ]
  },
  {
   "cell_type": "code",
   "execution_count": 47,
   "metadata": {},
   "outputs": [
    {
     "name": "stdout",
     "output_type": "stream",
     "text": [
      "callbacks and checkpoints set\n"
     ]
    }
   ],
   "source": [
    "# callback list: ModelCheckpoint, reduceLROnPlat, EarlyStopping\n",
    "# checkpoint_path = \"./models_saved/model_d_conv1d_v3.h5\"\n",
    "\n",
    "checkpoint_path = \"./models_saved/model_e_emo1d_v2.h5\"\n",
    "\n",
    "# Create a callback that saves the model's weights\n",
    "callbacks = [tf.keras.callbacks.ModelCheckpoint(filepath=checkpoint_path,\n",
    "                                                 save_weights_only=False,\n",
    "                                                 save_best_only=True,\n",
    "                                                 verbose=1, # 1 tells your which epoch is saving\n",
    "#                                                  monitor='val_categorical_accuracy',  # added for emo1d\n",
    "                                                 mode='max'), # added for emo1d\n",
    "               tf.keras.callbacks.EarlyStopping(monitor='val_loss', # changed from 'val_accuracy'\n",
    "                                                patience=5, \n",
    "                                                restore_best_weights=True,\n",
    "                                                verbose = 1, # added verbose for emo1d\n",
    "                                                mode = 'min'), # added for emo1d\n",
    "               tf.keras.callbacks.ReduceLROnPlateau(monitor='val_loss', \n",
    "                                                    patience=2, \n",
    "                                                    factor=0.5, \n",
    "                                                    min_lr=0.000001, \n",
    "                                                    verbose=1)]\n",
    "\n",
    "print('callbacks and checkpoints set')"
   ]
  },
  {
   "cell_type": "code",
   "execution_count": 39,
   "metadata": {},
   "outputs": [
    {
     "name": "stdout",
     "output_type": "stream",
     "text": [
      "model compiled\n"
     ]
    }
   ],
   "source": [
    "# model.compile(loss='categorical_crossentropy',\n",
    "#               optimizer=optimizer,\n",
    "#               metrics=['accuracy'])\n",
    "\n",
    "# print('model compiled')"
   ]
  },
  {
   "cell_type": "code",
   "execution_count": 51,
   "metadata": {},
   "outputs": [
    {
     "name": "stdout",
     "output_type": "stream",
     "text": [
      "Epoch 1/150\n",
      "WARNING:tensorflow:Can save best model only with val_categorical_accuracy available, skipping.\n",
      "305/305 - 10s - loss: 0.7984 - accuracy: 0.6883 - val_loss: 0.8656 - val_accuracy: 0.6826\n",
      "Epoch 2/150\n",
      "WARNING:tensorflow:Can save best model only with val_categorical_accuracy available, skipping.\n",
      "305/305 - 10s - loss: 0.7947 - accuracy: 0.6922 - val_loss: 0.8667 - val_accuracy: 0.6826\n",
      "Epoch 3/150\n",
      "WARNING:tensorflow:Can save best model only with val_categorical_accuracy available, skipping.\n",
      "305/305 - 10s - loss: 0.7901 - accuracy: 0.6936 - val_loss: 0.8655 - val_accuracy: 0.6826\n",
      "Epoch 4/150\n",
      "WARNING:tensorflow:Can save best model only with val_categorical_accuracy available, skipping.\n",
      "305/305 - 11s - loss: 0.7867 - accuracy: 0.6960 - val_loss: 0.8666 - val_accuracy: 0.6826\n",
      "Epoch 5/150\n",
      "WARNING:tensorflow:Can save best model only with val_categorical_accuracy available, skipping.\n",
      "305/305 - 10s - loss: 0.7828 - accuracy: 0.6980 - val_loss: 0.8656 - val_accuracy: 0.6826\n",
      "Epoch 6/150\n",
      "WARNING:tensorflow:Can save best model only with val_categorical_accuracy available, skipping.\n",
      "305/305 - 11s - loss: 0.7802 - accuracy: 0.7007 - val_loss: 0.8658 - val_accuracy: 0.6826\n",
      "Epoch 7/150\n",
      "WARNING:tensorflow:Can save best model only with val_categorical_accuracy available, skipping.\n",
      "305/305 - 11s - loss: 0.7781 - accuracy: 0.7017 - val_loss: 0.8653 - val_accuracy: 0.6826\n",
      "Epoch 8/150\n",
      "WARNING:tensorflow:Can save best model only with val_categorical_accuracy available, skipping.\n",
      "305/305 - 10s - loss: 0.7735 - accuracy: 0.7016 - val_loss: 0.8667 - val_accuracy: 0.6824\n",
      "Epoch 9/150\n",
      "WARNING:tensorflow:Can save best model only with val_categorical_accuracy available, skipping.\n",
      "305/305 - 10s - loss: 0.7705 - accuracy: 0.7020 - val_loss: 0.8657 - val_accuracy: 0.6824\n",
      "Epoch 10/150\n",
      "WARNING:tensorflow:Can save best model only with val_categorical_accuracy available, skipping.\n",
      "305/305 - 11s - loss: 0.7689 - accuracy: 0.7042 - val_loss: 0.8649 - val_accuracy: 0.6824\n",
      "Epoch 11/150\n",
      "WARNING:tensorflow:Can save best model only with val_categorical_accuracy available, skipping.\n",
      "305/305 - 10s - loss: 0.7648 - accuracy: 0.7044 - val_loss: 0.8643 - val_accuracy: 0.6824\n",
      "Epoch 12/150\n",
      "WARNING:tensorflow:Can save best model only with val_categorical_accuracy available, skipping.\n",
      "305/305 - 10s - loss: 0.7611 - accuracy: 0.7055 - val_loss: 0.8646 - val_accuracy: 0.6824\n",
      "Epoch 13/150\n",
      "WARNING:tensorflow:Can save best model only with val_categorical_accuracy available, skipping.\n",
      "305/305 - 10s - loss: 0.7598 - accuracy: 0.7073 - val_loss: 0.8653 - val_accuracy: 0.6824\n",
      "Epoch 14/150\n",
      "WARNING:tensorflow:Can save best model only with val_categorical_accuracy available, skipping.\n",
      "305/305 - 10s - loss: 0.7574 - accuracy: 0.7075 - val_loss: 0.8652 - val_accuracy: 0.6824\n",
      "Epoch 15/150\n",
      "WARNING:tensorflow:Can save best model only with val_categorical_accuracy available, skipping.\n",
      "305/305 - 10s - loss: 0.7553 - accuracy: 0.7080 - val_loss: 0.8650 - val_accuracy: 0.6826\n",
      "Epoch 16/150\n",
      "WARNING:tensorflow:Can save best model only with val_categorical_accuracy available, skipping.\n",
      "Restoring model weights from the end of the best epoch.\n",
      "305/305 - 10s - loss: 0.7541 - accuracy: 0.7090 - val_loss: 0.8659 - val_accuracy: 0.6826\n",
      "Epoch 00016: early stopping\n"
     ]
    }
   ],
   "source": [
    "batch_size = 64\n",
    "\n",
    "model_history=model.fit(X_train, \n",
    "                        y_train,\n",
    "                        batch_size=batch_size,\n",
    "                        epochs=150,\n",
    "                        validation_data=(X_test, y_test),\n",
    "                        verbose=2,\n",
    "                        callbacks=callbacks)"
   ]
  },
  {
   "cell_type": "code",
   "execution_count": 52,
   "metadata": {},
   "outputs": [
    {
     "data": {
      "image/png": "[encoded data removed]",
      "text/plain": [
       "<Figure size 432x288 with 1 Axes>"
      ]
     },
     "metadata": {
      "needs_background": "light"
     },
     "output_type": "display_data"
    }
   ],
   "source": [
    "plt.plot(model_history.history['loss'])\n",
    "plt.plot(model_history.history['val_loss'])\n",
    "plt.title('model loss')\n",
    "plt.ylabel('loss')\n",
    "plt.xlabel('epoch')\n",
    "plt.legend(['train', 'test'], loc='upper left')\n",
    "plt.show()"
   ]
  },
  {
   "cell_type": "code",
   "execution_count": 42,
   "metadata": {},
   "outputs": [
    {
     "name": "stdout",
     "output_type": "stream",
     "text": [
      "77/77 - 0s - loss: 0.9548 - accuracy: 0.6828\n",
      "score: 0.95\n",
      "acc: 0.68\n"
     ]
    }
   ],
   "source": [
    "score,acc = model.evaluate(X_test, y_test, verbose = 2, batch_size = batch_size)\n",
    "print(\"score: %.2f\" % (score))\n",
    "print(\"acc: %.2f\" % (acc))"
   ]
  }
 ],
 "metadata": {
  "kernelspec": {
   "display_name": "Python 3",
   "language": "python",
   "name": "python3"
  },
  "language_info": {
   "codemirror_mode": {
    "name": "ipython",
    "version": 3
   },
   "file_extension": ".py",
   "mimetype": "text/x-python",
   "name": "python",
   "nbconvert_exporter": "python",
   "pygments_lexer": "ipython3",
   "version": "3.8.5"
  }
 },
 "nbformat": 4,
 "nbformat_minor": 4
}
